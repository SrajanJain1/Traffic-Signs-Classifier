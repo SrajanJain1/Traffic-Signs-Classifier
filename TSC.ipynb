{
 "cells": [
  {
   "cell_type": "code",
   "execution_count": 1,
   "metadata": {},
   "outputs": [],
   "source": [
    "import numpy as np \n",
    "import pandas as pd \n",
    "import matplotlib.pyplot as plt\n",
    "import tensorflow as tf\n",
    "from PIL import Image\n",
    "from tensorflow import keras\n",
    "import os\n",
    "from sklearn.model_selection import train_test_split"
   ]
  },
  {
   "cell_type": "code",
   "execution_count": 2,
   "metadata": {},
   "outputs": [],
   "source": [
    "data = []\n",
    "labels = []\n",
    "classes = 43\n",
    "cur_path = 'C:/Users/s9174/Desktop/Traffic sign classifier'\n",
    "\n",
    "#Retrieving the images and their labels \n",
    "for i in range(classes):\n",
    "    path = os.path.join(cur_path,'train',str(i))\n",
    "    images = os.listdir(path)\n",
    "\n",
    "    for a in images:\n",
    "        try:\n",
    "            image = Image.open(path + '\\\\'+ a)\n",
    "            image = image.resize((30,30))\n",
    "            image = np.array(image)\n",
    "            #sim = Image.fromarray(image)\n",
    "            data.append(image)\n",
    "            labels.append(i)\n",
    "        except:\n",
    "            print(\"Error loading image\")\n",
    "\n",
    "#Converting lists into numpy arrays\n",
    "data = np.array(data)\n",
    "labels = np.array(labels)"
   ]
  },
  {
   "cell_type": "code",
   "execution_count": 3,
   "metadata": {},
   "outputs": [
    {
     "name": "stdout",
     "output_type": "stream",
     "text": [
      "(39209, 30, 30, 3) (39209,)\n",
      "(31367, 30, 30, 3) (7842, 30, 30, 3) (31367,) (7842,)\n"
     ]
    }
   ],
   "source": [
    "print(data.shape, labels.shape)\n",
    "#Splitting training and testing dataset\n",
    "X_train, X_test, y_train, y_test = train_test_split(data, labels, test_size=0.2, random_state=42)\n",
    "\n",
    "print(X_train.shape, X_test.shape, y_train.shape, y_test.shape)"
   ]
  },
  {
   "cell_type": "code",
   "execution_count": 4,
   "metadata": {},
   "outputs": [],
   "source": [
    "y_train = keras.utils.to_categorical(y_train, 43)\n",
    "y_test = keras.utils.to_categorical(y_test, 43)"
   ]
  },
  {
   "cell_type": "code",
   "execution_count": 5,
   "metadata": {},
   "outputs": [],
   "source": [
    "model = tf.keras.models.Sequential([\n",
    "tf.keras.layers.Conv2D(filters=32, kernel_size=(5,5), activation='relu', input_shape=X_train.shape[1:]),\n",
    "tf.keras.layers.Conv2D(filters=32, kernel_size=(5,5), activation='relu'),\n",
    "tf.keras.layers.MaxPool2D(pool_size=(2, 2)),\n",
    "tf.keras.layers.Dropout(rate=0.25),\n",
    "tf.keras.layers.Conv2D(filters=64, kernel_size=(3, 3), activation='relu'),\n",
    "tf.keras.layers.Conv2D(filters=64, kernel_size=(3, 3), activation='relu'),\n",
    "tf.keras.layers.MaxPool2D(pool_size=(2, 2)),\n",
    "tf.keras.layers.Dropout(rate=0.25),\n",
    "tf.keras.layers.Flatten(),\n",
    "tf.keras.layers.Dense(256, activation='relu'),\n",
    "tf.keras.layers.Dropout(rate=0.5),\n",
    "tf.keras.layers.Dense(43, activation='softmax')])"
   ]
  },
  {
   "cell_type": "code",
   "execution_count": 6,
   "metadata": {},
   "outputs": [
    {
     "name": "stdout",
     "output_type": "stream",
     "text": [
      "Train on 31367 samples, validate on 7842 samples\n",
      "Epoch 1/20\n",
      "31367/31367 [==============================] - 106s 3ms/sample - loss: 2.1151 - accuracy: 0.4806 - val_loss: 0.6439 - val_accuracy: 0.8383\n",
      "Epoch 2/20\n",
      "31367/31367 [==============================] - 97s 3ms/sample - loss: 0.8813 - accuracy: 0.7398 - val_loss: 0.3215 - val_accuracy: 0.9109\n",
      "Epoch 3/20\n",
      "31367/31367 [==============================] - 96s 3ms/sample - loss: 0.6160 - accuracy: 0.8193 - val_loss: 0.1999 - val_accuracy: 0.9413\n",
      "Epoch 4/20\n",
      "31367/31367 [==============================] - 98s 3ms/sample - loss: 0.4894 - accuracy: 0.8533 - val_loss: 0.1490 - val_accuracy: 0.9546\n",
      "Epoch 5/20\n",
      "31367/31367 [==============================] - 100s 3ms/sample - loss: 0.3952 - accuracy: 0.8833 - val_loss: 0.1746 - val_accuracy: 0.9478\n",
      "Epoch 6/20\n",
      "31367/31367 [==============================] - 99s 3ms/sample - loss: 0.3466 - accuracy: 0.8975 - val_loss: 0.1458 - val_accuracy: 0.9574\n",
      "Epoch 7/20\n",
      "31367/31367 [==============================] - 100s 3ms/sample - loss: 0.3373 - accuracy: 0.9008 - val_loss: 0.1470 - val_accuracy: 0.9527\n",
      "Epoch 8/20\n",
      "31367/31367 [==============================] - 100s 3ms/sample - loss: 0.3126 - accuracy: 0.9098 - val_loss: 0.0966 - val_accuracy: 0.9733\n",
      "Epoch 9/20\n",
      "31367/31367 [==============================] - 102s 3ms/sample - loss: 0.2814 - accuracy: 0.9186 - val_loss: 0.1199 - val_accuracy: 0.9676\n",
      "Epoch 10/20\n",
      "31367/31367 [==============================] - 101s 3ms/sample - loss: 0.2981 - accuracy: 0.9147 - val_loss: 0.0889 - val_accuracy: 0.9758\n",
      "Epoch 11/20\n",
      "31367/31367 [==============================] - 101s 3ms/sample - loss: 0.2622 - accuracy: 0.9241 - val_loss: 0.0787 - val_accuracy: 0.9767\n",
      "Epoch 12/20\n",
      "31367/31367 [==============================] - 97s 3ms/sample - loss: 0.2507 - accuracy: 0.9288 - val_loss: 0.0578 - val_accuracy: 0.9827\n",
      "Epoch 13/20\n",
      "31367/31367 [==============================] - 96s 3ms/sample - loss: 0.2227 - accuracy: 0.9376 - val_loss: 0.0631 - val_accuracy: 0.9806\n",
      "Epoch 14/20\n",
      "31367/31367 [==============================] - 69s 2ms/sample - loss: 0.2477 - accuracy: 0.9306 - val_loss: 0.0740 - val_accuracy: 0.9781\n",
      "Epoch 15/20\n",
      "31367/31367 [==============================] - 64s 2ms/sample - loss: 0.2381 - accuracy: 0.9338 - val_loss: 0.0632 - val_accuracy: 0.9805\n",
      "Epoch 16/20\n",
      "31367/31367 [==============================] - 57s 2ms/sample - loss: 0.2326 - accuracy: 0.9342 - val_loss: 0.1221 - val_accuracy: 0.9637\n",
      "Epoch 17/20\n",
      "31367/31367 [==============================] - 58s 2ms/sample - loss: 0.2498 - accuracy: 0.9329 - val_loss: 0.0748 - val_accuracy: 0.9760\n",
      "Epoch 18/20\n",
      "31367/31367 [==============================] - 61s 2ms/sample - loss: 0.2252 - accuracy: 0.9378 - val_loss: 0.0583 - val_accuracy: 0.9827\n",
      "Epoch 19/20\n",
      "31367/31367 [==============================] - 66s 2ms/sample - loss: 0.2295 - accuracy: 0.9366 - val_loss: 0.0806 - val_accuracy: 0.9781\n",
      "Epoch 20/20\n",
      "31367/31367 [==============================] - 70s 2ms/sample - loss: 0.2553 - accuracy: 0.9316 - val_loss: 0.0673 - val_accuracy: 0.9820\n"
     ]
    }
   ],
   "source": [
    "model.compile(loss='categorical_crossentropy', optimizer='adam', metrics=['accuracy'])\n",
    "\n",
    "epochs = 20\n",
    "history = model.fit(X_train, y_train, batch_size=32, epochs=epochs, validation_data=(X_test, y_test))"
   ]
  },
  {
   "cell_type": "code",
   "execution_count": 7,
   "metadata": {},
   "outputs": [
    {
     "data": {
      "image/png": "[encoded data removed]",
      "text/plain": [
       "<Figure size 432x288 with 1 Axes>"
      ]
     },
     "metadata": {
      "needs_background": "light"
     },
     "output_type": "display_data"
    },
    {
     "data": {
      "image/png": "[encoded data removed]",
      "text/plain": [
       "<Figure size 432x288 with 1 Axes>"
      ]
     },
     "metadata": {
      "needs_background": "light"
     },
     "output_type": "display_data"
    }
   ],
   "source": [
    "plt.figure(0)\n",
    "plt.plot(history.history['accuracy'], label='training accuracy')\n",
    "plt.plot(history.history['val_accuracy'], label='val accuracy')\n",
    "plt.title('Accuracy')\n",
    "plt.xlabel('epochs')\n",
    "plt.ylabel('accuracy')\n",
    "plt.legend()\n",
    "plt.show()\n",
    "\n",
    "plt.figure(1)\n",
    "plt.plot(history.history['loss'], label='training loss')\n",
    "plt.plot(history.history['val_loss'], label='val loss')\n",
    "plt.title('Loss')\n",
    "plt.xlabel('epochs')\n",
    "plt.ylabel('loss')\n",
    "plt.legend()\n",
    "plt.show()"
   ]
  },
  {
   "cell_type": "code",
   "execution_count": 9,
   "metadata": {},
   "outputs": [
    {
     "name": "stdout",
     "output_type": "stream",
     "text": [
      "0.9323832145684877\n"
     ]
    }
   ],
   "source": [
    "from sklearn.metrics import accuracy_score\n",
    "\n",
    "y_test = pd.read_csv('C:/Users/s9174/Desktop/Traffic sign classifier/Test.csv')\n",
    "\n",
    "labels = y_test[\"ClassId\"].values\n",
    "imgs = y_test[\"Path\"].values\n",
    "\n",
    "data=[]\n",
    "p='C:/Users/s9174/Desktop/Traffic sign classifier'\n",
    "for img in imgs:\n",
    "    img=os.path.join(p,img)\n",
    "    image = Image.open(img)\n",
    "    image = image.resize((30,30))\n",
    "    data.append(np.array(image))\n",
    "X_test=np.array(data)\n",
    "\n",
    "pred = model.predict_classes(X_test)\n",
    "\n",
    "#Accuracy with the test data\n",
    "from sklearn.metrics import accuracy_score\n",
    "print(accuracy_score(labels, pred))"
   ]
  },
  {
   "cell_type": "code",
   "execution_count": null,
   "metadata": {},
   "outputs": [],
   "source": []
  }
 ],
 "metadata": {
  "kernelspec": {
   "display_name": "Python 3",
   "language": "python",
   "name": "python3"
  },
  "language_info": {
   "codemirror_mode": {
    "name": "ipython",
    "version": 3
   },
   "file_extension": ".py",
   "mimetype": "text/x-python",
   "name": "python",
   "nbconvert_exporter": "python",
   "pygments_lexer": "ipython3",
   "version": "3.7.7"
  }
 },
 "nbformat": 4,
 "nbformat_minor": 4
}
